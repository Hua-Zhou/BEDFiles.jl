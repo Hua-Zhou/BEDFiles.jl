{
 "cells": [
  {
   "cell_type": "code",
   "execution_count": 1,
   "metadata": {},
   "outputs": [
    {
     "name": "stdout",
     "output_type": "stream",
     "text": [
      "Julia Version 0.7.0\n",
      "Commit a4cb80f3ed (2018-08-08 06:46 UTC)\n",
      "Platform Info:\n",
      "  OS: macOS (x86_64-apple-darwin14.5.0)\n",
      "  CPU: Intel(R) Core(TM) i7-6920HQ CPU @ 2.90GHz\n",
      "  WORD_SIZE: 64\n",
      "  LIBM: libopenlibm\n",
      "  LLVM: libLLVM-6.0.0 (ORCJIT, skylake)\n",
      "Environment:\n",
      "  JULIA_EDITOR = code\n"
     ]
    }
   ],
   "source": [
    "versioninfo()"
   ]
  },
  {
   "cell_type": "code",
   "execution_count": 2,
   "metadata": {},
   "outputs": [],
   "source": [
    "using BEDFiles, BenchmarkTools"
   ]
  },
  {
   "cell_type": "markdown",
   "metadata": {},
   "source": [
    "## Constructor\n",
    "\n",
    "### Initialize from existing plink files"
   ]
  },
  {
   "cell_type": "code",
   "execution_count": 3,
   "metadata": {},
   "outputs": [
    {
     "data": {
      "text/plain": [
       "1940×10150 BEDFile:\n",
       " 0x02  0x02  0x02  0x02  0x03  0x02  …  0x03  0x03  0x03  0x03  0x03  0x03\n",
       " 0x02  0x02  0x03  0x02  0x02  0x02     0x03  0x03  0x03  0x03  0x03  0x03\n",
       " 0x03  0x03  0x03  0x03  0x03  0x03     0x03  0x03  0x03  0x03  0x03  0x03\n",
       " 0x02  0x02  0x02  0x02  0x02  0x02     0x03  0x03  0x03  0x03  0x03  0x03\n",
       " 0x03  0x03  0x03  0x03  0x03  0x03     0x02  0x02  0x02  0x02  0x02  0x02\n",
       " 0x02  0x02  0x02  0x02  0x03  0x02  …  0x03  0x03  0x03  0x03  0x03  0x03\n",
       " 0x02  0x02  0x02  0x02  0x03  0x02     0x03  0x03  0x03  0x03  0x03  0x03\n",
       " 0x02  0x02  0x03  0x02  0x02  0x02     0x03  0x03  0x03  0x03  0x03  0x03\n",
       " 0x02  0x02  0x03  0x02  0x02  0x02     0x03  0x03  0x03  0x03  0x03  0x03\n",
       " 0x03  0x03  0x03  0x03  0x03  0x03     0x02  0x02  0x02  0x02  0x02  0x02\n",
       " 0x03  0x03  0x03  0x03  0x03  0x03  …  0x00  0x00  0x00  0x00  0x00  0x00\n",
       " 0x02  0x02  0x02  0x02  0x03  0x02     0x03  0x03  0x03  0x03  0x03  0x03\n",
       " 0x03  0x03  0x03  0x03  0x03  0x03     0x00  0x00  0x00  0x00  0x00  0x00\n",
       "    ⋮                             ⋮  ⋱           ⋮                        \n",
       " 0x03  0x03  0x03  0x03  0x03  0x03     0x03  0x03  0x03  0x03  0x03  0x03\n",
       " 0x03  0x03  0x03  0x03  0x03  0x03     0x03  0x03  0x03  0x03  0x03  0x03\n",
       " 0x02  0x02  0x02  0x02  0x02  0x02  …  0x03  0x03  0x03  0x03  0x03  0x03\n",
       " 0x02  0x02  0x02  0x02  0x03  0x02     0x03  0x03  0x03  0x03  0x03  0x03\n",
       " 0x03  0x03  0x03  0x03  0x03  0x03     0x03  0x03  0x03  0x03  0x03  0x03\n",
       " 0x02  0x02  0x02  0x02  0x03  0x02     0x03  0x03  0x03  0x03  0x03  0x03\n",
       " 0x03  0x03  0x03  0x03  0x03  0x03     0x03  0x03  0x03  0x03  0x03  0x03\n",
       " 0x02  0x02  0x02  0x02  0x03  0x02  …  0x03  0x03  0x03  0x03  0x03  0x03\n",
       " 0x02  0x02  0x03  0x02  0x02  0x02     0x03  0x03  0x03  0x03  0x03  0x03\n",
       " 0x02  0x02  0x03  0x02  0x02  0x02     0x03  0x03  0x03  0x03  0x03  0x03\n",
       " 0x02  0x02  0x02  0x02  0x02  0x02     0x01  0x01  0x01  0x01  0x01  0x01\n",
       " 0x00  0x00  0x00  0x00  0x03  0x00     0x03  0x03  0x03  0x03  0x03  0x03"
      ]
     },
     "execution_count": 3,
     "metadata": {},
     "output_type": "execute_result"
    }
   ],
   "source": [
    "const bf = BEDFile(BEDFiles.datadir(\"mouse.bed\"))"
   ]
  },
  {
   "cell_type": "markdown",
   "metadata": {},
   "source": [
    "The virtual size of the GWAS data is 1940 observations at each of 10150 SNP positions"
   ]
  },
  {
   "cell_type": "code",
   "execution_count": 4,
   "metadata": {},
   "outputs": [
    {
     "data": {
      "text/plain": [
       "(1940, 10150)"
      ]
     },
     "execution_count": 4,
     "metadata": {},
     "output_type": "execute_result"
    }
   ],
   "source": [
    "size(bf)"
   ]
  },
  {
   "cell_type": "markdown",
   "metadata": {},
   "source": [
    "The actual size of the memory-mapped matrix of `UInt8` values is 485 rows and 10150 columns"
   ]
  },
  {
   "cell_type": "code",
   "execution_count": 5,
   "metadata": {},
   "outputs": [
    {
     "data": {
      "text/plain": [
       "(485, 10150)"
      ]
     },
     "execution_count": 5,
     "metadata": {},
     "output_type": "execute_result"
    }
   ],
   "source": [
    "size(bf.data)"
   ]
  },
  {
   "cell_type": "markdown",
   "metadata": {},
   "source": [
    "Because the file is memory-mapped opening the file and accessing the data is fast, even for very large .bed files."
   ]
  },
  {
   "cell_type": "code",
   "execution_count": 6,
   "metadata": {},
   "outputs": [
    {
     "data": {
      "text/plain": [
       "BenchmarkTools.Trial: \n",
       "  memory estimate:  389.42 KiB\n",
       "  allocs estimate:  61\n",
       "  --------------\n",
       "  minimum time:     104.385 μs (0.00% GC)\n",
       "  median time:      213.230 μs (0.00% GC)\n",
       "  mean time:        222.935 μs (11.99% GC)\n",
       "  maximum time:     45.842 ms (98.74% GC)\n",
       "  --------------\n",
       "  samples:          10000\n",
       "  evals/sample:     1"
      ]
     },
     "execution_count": 6,
     "metadata": {},
     "output_type": "execute_result"
    }
   ],
   "source": [
    "@benchmark(BEDFile(BEDFiles.datadir(\"mouse.bed\")))"
   ]
  },
  {
   "cell_type": "markdown",
   "metadata": {},
   "source": [
    "This file, from a study published in 2006, is about 5 Mb in size but data from recent studies, which have samples from tens of\n",
    "thousands of individuals at over a million SNP positions, would be in the tens or even hundreds of Gb range.\n",
    "\n",
    "By default, the memory-mapped file is read only, changing entries is not allowed"
   ]
  },
  {
   "cell_type": "code",
   "execution_count": 7,
   "metadata": {},
   "outputs": [
    {
     "ename": "ReadOnlyMemoryError",
     "evalue": "ReadOnlyMemoryError()",
     "output_type": "error",
     "traceback": [
      "ReadOnlyMemoryError()",
      "",
      "Stacktrace:",
      " [1] | at ./int.jl:320 [inlined]",
      " [2] setindex!(::BEDFile, ::UInt8, ::Int64, ::Int64) at /Users/huazhou/.julia/dev/BEDFiles/src/bedfile.jl:103",
      " [3] top-level scope at In[7]:1"
     ]
    }
   ],
   "source": [
    "bf[1, 1] = 0x00"
   ]
  },
  {
   "cell_type": "markdown",
   "metadata": {},
   "source": [
    "To change a bed file, open with write permission\n",
    "```julia\n",
    "bf = BEDFile(BEDFiles.datadir(\"mouse.bed\"), \"w\")\n",
    "```"
   ]
  },
  {
   "cell_type": "markdown",
   "metadata": {},
   "source": [
    "### Initialize and create bed file\n",
    "\n",
    "Initialize 5 people and 3 SNPS with all A1 alleles (0x00) and memory-map to a bed file"
   ]
  },
  {
   "cell_type": "code",
   "execution_count": 8,
   "metadata": {},
   "outputs": [
    {
     "data": {
      "text/plain": [
       "5×3 BEDFile:\n",
       " 0x00  0x00  0x00\n",
       " 0x00  0x00  0x00\n",
       " 0x00  0x00  0x00\n",
       " 0x00  0x00  0x00\n",
       " 0x00  0x00  0x00"
      ]
     },
     "execution_count": 8,
     "metadata": {},
     "output_type": "execute_result"
    }
   ],
   "source": [
    "tmpbf = BEDFile(\"tmp.bed\", 5, 3)"
   ]
  },
  {
   "cell_type": "code",
   "execution_count": 9,
   "metadata": {},
   "outputs": [
    {
     "data": {
      "text/plain": [
       "5×3 BEDFile:\n",
       " 0x03  0x03  0x00\n",
       " 0x03  0x03  0x00\n",
       " 0x00  0x00  0x00\n",
       " 0x00  0x00  0x00\n",
       " 0x00  0x00  0x00"
      ]
     },
     "execution_count": 9,
     "metadata": {},
     "output_type": "execute_result"
    }
   ],
   "source": [
    "tmpbf[1:2, 1:2] .= 0x03\n",
    "tmpbf"
   ]
  },
  {
   "cell_type": "code",
   "execution_count": 10,
   "metadata": {},
   "outputs": [
    {
     "data": {
      "text/plain": [
       "5×3 BEDFile:\n",
       " 0x02  0x02  0x02\n",
       " 0x02  0x02  0x02\n",
       " 0x02  0x02  0x02\n",
       " 0x02  0x02  0x02\n",
       " 0x02  0x02  0x02"
      ]
     },
     "execution_count": 10,
     "metadata": {},
     "output_type": "execute_result"
    }
   ],
   "source": [
    "fill!(tmpbf, 0x02)\n",
    "tmpbf"
   ]
  },
  {
   "cell_type": "code",
   "execution_count": 11,
   "metadata": {
    "collapsed": true
   },
   "outputs": [],
   "source": [
    "rm(\"tmp.bed\")"
   ]
  },
  {
   "cell_type": "markdown",
   "metadata": {},
   "source": [
    "Initialize 5 people and 3 SNPs with undefined genotypes without memory-mapping to any file"
   ]
  },
  {
   "cell_type": "code",
   "execution_count": 12,
   "metadata": {},
   "outputs": [
    {
     "data": {
      "text/plain": [
       "5×3 BEDFile:\n",
       " 0x00  0x03  0x03\n",
       " 0x00  0x03  0x03\n",
       " 0x00  0x03  0x03\n",
       " 0x00  0x03  0x03\n",
       " 0x00  0x03  0x03"
      ]
     },
     "execution_count": 12,
     "metadata": {},
     "output_type": "execute_result"
    }
   ],
   "source": [
    "tmpbf = BEDFile(undef, 5, 3)"
   ]
  },
  {
   "cell_type": "markdown",
   "metadata": {},
   "source": [
    "Create a bed file corresponding to an existing BEDFile and memory-map it."
   ]
  },
  {
   "cell_type": "code",
   "execution_count": 13,
   "metadata": {},
   "outputs": [
    {
     "data": {
      "text/plain": [
       "5×3 BEDFile:\n",
       " 0x00  0x03  0x03\n",
       " 0x00  0x03  0x03\n",
       " 0x00  0x03  0x03\n",
       " 0x00  0x03  0x03\n",
       " 0x00  0x03  0x03"
      ]
     },
     "execution_count": 13,
     "metadata": {},
     "output_type": "execute_result"
    }
   ],
   "source": [
    "tmpbf = BEDFile(\"tmp.bed\", tmpbf)"
   ]
  },
  {
   "cell_type": "code",
   "execution_count": 14,
   "metadata": {},
   "outputs": [
    {
     "data": {
      "text/plain": [
       "5×3 BEDFile:\n",
       " 0x02  0x03  0x03\n",
       " 0x00  0x03  0x03\n",
       " 0x00  0x03  0x03\n",
       " 0x00  0x03  0x03\n",
       " 0x00  0x03  0x03"
      ]
     },
     "execution_count": 14,
     "metadata": {},
     "output_type": "execute_result"
    }
   ],
   "source": [
    "tmpbf[1, 1] = 0x02\n",
    "tmpbf"
   ]
  },
  {
   "cell_type": "code",
   "execution_count": 15,
   "metadata": {
    "collapsed": true
   },
   "outputs": [],
   "source": [
    "rm(\"tmp.bed\")"
   ]
  },
  {
   "cell_type": "markdown",
   "metadata": {},
   "source": [
    "## Convert to `Float`s\n",
    "\n",
    "Most common usage is to convert genotype data to numeric values for statistical analysis. Conversion rule depends on genetic models (additive, dominant, or recessive), centering, scaling, or imputation.\n",
    "\n",
    "### `copyto!`\n",
    "\n",
    "Copy a column to a Float64 vector using defaults `model=:additive`, `center=false`, `scale=false`, `impute=false`"
   ]
  },
  {
   "cell_type": "code",
   "execution_count": 16,
   "metadata": {},
   "outputs": [
    {
     "data": {
      "text/plain": [
       "1940-element Array{Float64,1}:\n",
       " 1.0\n",
       " 1.0\n",
       " 2.0\n",
       " 1.0\n",
       " 2.0\n",
       " 1.0\n",
       " 1.0\n",
       " 1.0\n",
       " 1.0\n",
       " 2.0\n",
       " 2.0\n",
       " 1.0\n",
       " 2.0\n",
       " ⋮  \n",
       " 2.0\n",
       " 2.0\n",
       " 1.0\n",
       " 1.0\n",
       " 2.0\n",
       " 1.0\n",
       " 2.0\n",
       " 1.0\n",
       " 1.0\n",
       " 1.0\n",
       " 1.0\n",
       " 0.0"
      ]
     },
     "execution_count": 16,
     "metadata": {},
     "output_type": "execute_result"
    }
   ],
   "source": [
    "v = zeros(size(bf, 1))\n",
    "copyto!(v, bf, 1)"
   ]
  },
  {
   "cell_type": "code",
   "execution_count": 17,
   "metadata": {},
   "outputs": [
    {
     "data": {
      "text/plain": [
       "BenchmarkTools.Trial: \n",
       "  memory estimate:  0 bytes\n",
       "  allocs estimate:  0\n",
       "  --------------\n",
       "  minimum time:     3.714 μs (0.00% GC)\n",
       "  median time:      3.791 μs (0.00% GC)\n",
       "  mean time:        3.988 μs (0.00% GC)\n",
       "  maximum time:     15.380 μs (0.00% GC)\n",
       "  --------------\n",
       "  samples:          10000\n",
       "  evals/sample:     8"
      ]
     },
     "execution_count": 17,
     "metadata": {},
     "output_type": "execute_result"
    }
   ],
   "source": [
    "@benchmark(copyto!($v, $bf, 1))"
   ]
  },
  {
   "cell_type": "markdown",
   "metadata": {},
   "source": [
    "Copy columns using defaults"
   ]
  },
  {
   "cell_type": "code",
   "execution_count": 18,
   "metadata": {},
   "outputs": [
    {
     "data": {
      "text/plain": [
       "1940×2 Array{Float64,2}:\n",
       " 1.0  1.0\n",
       " 1.0  1.0\n",
       " 2.0  2.0\n",
       " 1.0  1.0\n",
       " 2.0  2.0\n",
       " 1.0  1.0\n",
       " 1.0  1.0\n",
       " 1.0  1.0\n",
       " 1.0  1.0\n",
       " 2.0  2.0\n",
       " 2.0  2.0\n",
       " 1.0  1.0\n",
       " 2.0  2.0\n",
       " ⋮       \n",
       " 2.0  2.0\n",
       " 2.0  2.0\n",
       " 1.0  1.0\n",
       " 1.0  1.0\n",
       " 2.0  2.0\n",
       " 1.0  1.0\n",
       " 2.0  2.0\n",
       " 1.0  1.0\n",
       " 1.0  1.0\n",
       " 1.0  1.0\n",
       " 1.0  1.0\n",
       " 0.0  0.0"
      ]
     },
     "execution_count": 18,
     "metadata": {},
     "output_type": "execute_result"
    }
   ],
   "source": [
    "v2 = zeros(size(bf, 1), 2)\n",
    "copyto!(v2, bf, 1:2)"
   ]
  },
  {
   "cell_type": "code",
   "execution_count": 19,
   "metadata": {},
   "outputs": [
    {
     "data": {
      "text/plain": [
       "BenchmarkTools.Trial: \n",
       "  memory estimate:  96 bytes\n",
       "  allocs estimate:  2\n",
       "  --------------\n",
       "  minimum time:     8.993 μs (0.00% GC)\n",
       "  median time:      9.198 μs (0.00% GC)\n",
       "  mean time:        9.815 μs (0.00% GC)\n",
       "  maximum time:     222.625 μs (0.00% GC)\n",
       "  --------------\n",
       "  samples:          10000\n",
       "  evals/sample:     3"
      ]
     },
     "execution_count": 19,
     "metadata": {},
     "output_type": "execute_result"
    }
   ],
   "source": [
    "@benchmark(copyto!($v2, $bf, 1:2))"
   ]
  },
  {
   "cell_type": "markdown",
   "metadata": {},
   "source": [
    "Convert according to dominant model"
   ]
  },
  {
   "cell_type": "code",
   "execution_count": 20,
   "metadata": {},
   "outputs": [
    {
     "data": {
      "text/plain": [
       "1940-element Array{Float64,1}:\n",
       " 1.0\n",
       " 1.0\n",
       " 1.0\n",
       " 1.0\n",
       " 1.0\n",
       " 1.0\n",
       " 1.0\n",
       " 1.0\n",
       " 1.0\n",
       " 1.0\n",
       " 1.0\n",
       " 1.0\n",
       " 1.0\n",
       " ⋮  \n",
       " 1.0\n",
       " 1.0\n",
       " 1.0\n",
       " 1.0\n",
       " 1.0\n",
       " 1.0\n",
       " 1.0\n",
       " 1.0\n",
       " 1.0\n",
       " 1.0\n",
       " 1.0\n",
       " 0.0"
      ]
     },
     "execution_count": 20,
     "metadata": {},
     "output_type": "execute_result"
    }
   ],
   "source": [
    "copyto!(v, bf, 1, model = :dominant)"
   ]
  },
  {
   "cell_type": "code",
   "execution_count": 21,
   "metadata": {},
   "outputs": [
    {
     "data": {
      "text/plain": [
       "BenchmarkTools.Trial: \n",
       "  memory estimate:  0 bytes\n",
       "  allocs estimate:  0\n",
       "  --------------\n",
       "  minimum time:     3.475 μs (0.00% GC)\n",
       "  median time:      3.595 μs (0.00% GC)\n",
       "  mean time:        3.762 μs (0.00% GC)\n",
       "  maximum time:     19.840 μs (0.00% GC)\n",
       "  --------------\n",
       "  samples:          10000\n",
       "  evals/sample:     8"
      ]
     },
     "execution_count": 21,
     "metadata": {},
     "output_type": "execute_result"
    }
   ],
   "source": [
    "@benchmark(copyto!($v, $bf, 1, model=:dominant))"
   ]
  },
  {
   "cell_type": "markdown",
   "metadata": {},
   "source": [
    "Convert according to recessive model"
   ]
  },
  {
   "cell_type": "code",
   "execution_count": 22,
   "metadata": {},
   "outputs": [
    {
     "data": {
      "text/plain": [
       "1940-element Array{Float64,1}:\n",
       " 0.0\n",
       " 0.0\n",
       " 1.0\n",
       " 0.0\n",
       " 1.0\n",
       " 0.0\n",
       " 0.0\n",
       " 0.0\n",
       " 0.0\n",
       " 1.0\n",
       " 1.0\n",
       " 0.0\n",
       " 1.0\n",
       " ⋮  \n",
       " 1.0\n",
       " 1.0\n",
       " 0.0\n",
       " 0.0\n",
       " 1.0\n",
       " 0.0\n",
       " 1.0\n",
       " 0.0\n",
       " 0.0\n",
       " 0.0\n",
       " 0.0\n",
       " 0.0"
      ]
     },
     "execution_count": 22,
     "metadata": {},
     "output_type": "execute_result"
    }
   ],
   "source": [
    "copyto!(v, bf, 1, model = :recessive)"
   ]
  },
  {
   "cell_type": "code",
   "execution_count": 23,
   "metadata": {},
   "outputs": [
    {
     "data": {
      "text/plain": [
       "BenchmarkTools.Trial: \n",
       "  memory estimate:  0 bytes\n",
       "  allocs estimate:  0\n",
       "  --------------\n",
       "  minimum time:     3.796 μs (0.00% GC)\n",
       "  median time:      4.150 μs (0.00% GC)\n",
       "  mean time:        4.234 μs (0.00% GC)\n",
       "  maximum time:     12.308 μs (0.00% GC)\n",
       "  --------------\n",
       "  samples:          10000\n",
       "  evals/sample:     8"
      ]
     },
     "execution_count": 23,
     "metadata": {},
     "output_type": "execute_result"
    }
   ],
   "source": [
    "@benchmark(copyto!($v, $bf, 1, model=:recessive))"
   ]
  },
  {
   "cell_type": "markdown",
   "metadata": {},
   "source": [
    "Center and scale"
   ]
  },
  {
   "cell_type": "code",
   "execution_count": 24,
   "metadata": {},
   "outputs": [
    {
     "data": {
      "text/plain": [
       "1940-element Array{Float64,1}:\n",
       " -0.16084075452851265\n",
       " -0.16084075452851265\n",
       "  1.2624897581484626 \n",
       " -0.16084075452851265\n",
       "  1.2624897581484626 \n",
       " -0.16084075452851265\n",
       " -0.16084075452851265\n",
       " -0.16084075452851265\n",
       " -0.16084075452851265\n",
       "  1.2624897581484626 \n",
       "  1.2624897581484626 \n",
       " -0.16084075452851265\n",
       "  1.2624897581484626 \n",
       "  ⋮                  \n",
       "  1.2624897581484626 \n",
       "  1.2624897581484626 \n",
       " -0.16084075452851265\n",
       " -0.16084075452851265\n",
       "  1.2624897581484626 \n",
       " -0.16084075452851265\n",
       "  1.2624897581484626 \n",
       " -0.16084075452851265\n",
       " -0.16084075452851265\n",
       " -0.16084075452851265\n",
       " -0.16084075452851265\n",
       " -1.584171267205488  "
      ]
     },
     "execution_count": 24,
     "metadata": {},
     "output_type": "execute_result"
    }
   ],
   "source": [
    "copyto!(v, bf, 1, center=true, scale=true)"
   ]
  },
  {
   "cell_type": "code",
   "execution_count": 25,
   "metadata": {},
   "outputs": [
    {
     "data": {
      "text/plain": [
       "BenchmarkTools.Trial: \n",
       "  memory estimate:  0 bytes\n",
       "  allocs estimate:  0\n",
       "  --------------\n",
       "  minimum time:     4.796 μs (0.00% GC)\n",
       "  median time:      5.432 μs (0.00% GC)\n",
       "  mean time:        5.640 μs (0.00% GC)\n",
       "  maximum time:     19.155 μs (0.00% GC)\n",
       "  --------------\n",
       "  samples:          10000\n",
       "  evals/sample:     7"
      ]
     },
     "execution_count": 25,
     "metadata": {},
     "output_type": "execute_result"
    }
   ],
   "source": [
    "@benchmark(copyto!($v, $bf, 1, center=true, scale=true))"
   ]
  },
  {
   "cell_type": "code",
   "execution_count": 26,
   "metadata": {},
   "outputs": [
    {
     "name": "stdout",
     "output_type": "stream",
     "text": [
      "count(isnan, v) = 2\n",
      "mean(v) = NaN\n"
     ]
    }
   ],
   "source": [
    "copyto!(v, bf, 1, center=true, scale=true)\n",
    "@show count(isnan, v)\n",
    "@show mean(v);"
   ]
  },
  {
   "cell_type": "markdown",
   "metadata": {},
   "source": [
    "Impute by mean value"
   ]
  },
  {
   "cell_type": "code",
   "execution_count": 27,
   "metadata": {},
   "outputs": [
    {
     "name": "stdout",
     "output_type": "stream",
     "text": [
      "count(isnan, v) = 0\n",
      "mean(v) = -1.648166139649717e-17\n"
     ]
    }
   ],
   "source": [
    "copyto!(v, bf, 1, center=true, scale=true, impute=true)\n",
    "@show count(isnan, v)\n",
    "@show mean(v);"
   ]
  },
  {
   "cell_type": "code",
   "execution_count": 28,
   "metadata": {},
   "outputs": [
    {
     "data": {
      "text/plain": [
       "BenchmarkTools.Trial: \n",
       "  memory estimate:  0 bytes\n",
       "  allocs estimate:  0\n",
       "  --------------\n",
       "  minimum time:     4.804 μs (0.00% GC)\n",
       "  median time:      4.876 μs (0.00% GC)\n",
       "  mean time:        5.081 μs (0.00% GC)\n",
       "  maximum time:     19.200 μs (0.00% GC)\n",
       "  --------------\n",
       "  samples:          10000\n",
       "  evals/sample:     7"
      ]
     },
     "execution_count": 28,
     "metadata": {},
     "output_type": "execute_result"
    }
   ],
   "source": [
    "@benchmark(copyto!($v, $bf, 1, center=true, scale=true, impute=true))"
   ]
  },
  {
   "cell_type": "code",
   "execution_count": 29,
   "metadata": {},
   "outputs": [
    {
     "data": {
      "text/plain": [
       "1940×2 Array{Float64,2}:\n",
       " -0.160841  -0.15993\n",
       " -0.160841  -0.15993\n",
       "  1.26249    1.2633 \n",
       " -0.160841  -0.15993\n",
       "  1.26249    1.2633 \n",
       " -0.160841  -0.15993\n",
       " -0.160841  -0.15993\n",
       " -0.160841  -0.15993\n",
       " -0.160841  -0.15993\n",
       "  1.26249    1.2633 \n",
       "  1.26249    1.2633 \n",
       " -0.160841  -0.15993\n",
       "  1.26249    1.2633 \n",
       "  ⋮                 \n",
       "  1.26249    1.2633 \n",
       "  1.26249    1.2633 \n",
       " -0.160841  -0.15993\n",
       " -0.160841  -0.15993\n",
       "  1.26249    1.2633 \n",
       " -0.160841  -0.15993\n",
       "  1.26249    1.2633 \n",
       " -0.160841  -0.15993\n",
       " -0.160841  -0.15993\n",
       " -0.160841  -0.15993\n",
       " -0.160841  -0.15993\n",
       " -1.58417   -1.58316"
      ]
     },
     "execution_count": 29,
     "metadata": {},
     "output_type": "execute_result"
    }
   ],
   "source": [
    "copyto!(v2, bf, 1:2, center=true, scale=true, impute=true)"
   ]
  },
  {
   "cell_type": "code",
   "execution_count": 30,
   "metadata": {},
   "outputs": [
    {
     "data": {
      "text/plain": [
       "1×2 Array{Float64,2}:\n",
       " -1.64817e-17  1.09878e-17"
      ]
     },
     "execution_count": 30,
     "metadata": {},
     "output_type": "execute_result"
    }
   ],
   "source": [
    "mean(v2, dims=1)"
   ]
  },
  {
   "cell_type": "markdown",
   "metadata": {},
   "source": [
    "Looping over all columns"
   ]
  },
  {
   "cell_type": "code",
   "execution_count": 31,
   "metadata": {},
   "outputs": [
    {
     "data": {
      "text/plain": [
       "BenchmarkTools.Trial: \n",
       "  memory estimate:  0 bytes\n",
       "  allocs estimate:  0\n",
       "  --------------\n",
       "  minimum time:     46.401 ms (0.00% GC)\n",
       "  median time:      51.750 ms (0.00% GC)\n",
       "  mean time:        51.102 ms (0.00% GC)\n",
       "  maximum time:     60.199 ms (0.00% GC)\n",
       "  --------------\n",
       "  samples:          98\n",
       "  evals/sample:     1"
      ]
     },
     "execution_count": 31,
     "metadata": {},
     "output_type": "execute_result"
    }
   ],
   "source": [
    "@benchmark for j in 1:$size($bf, 2)\n",
    "    copyto!($v, $bf, j)\n",
    "end"
   ]
  },
  {
   "cell_type": "markdown",
   "metadata": {},
   "source": [
    "### `convert`\n",
    "\n",
    "`copyto!` is the in-place version of `convert`"
   ]
  },
  {
   "cell_type": "code",
   "execution_count": 32,
   "metadata": {},
   "outputs": [
    {
     "data": {
      "text/plain": [
       "1940×3 Array{Float64,2}:\n",
       " 1.0  1.0  0.0\n",
       " 1.0  1.0  0.0\n",
       " 2.0  1.0  1.0\n",
       " 1.0  1.0  0.0\n",
       " 2.0  1.0  1.0\n",
       " 1.0  1.0  0.0\n",
       " 1.0  1.0  0.0\n",
       " 1.0  1.0  0.0\n",
       " 1.0  1.0  0.0\n",
       " 2.0  1.0  1.0\n",
       " 2.0  1.0  1.0\n",
       " 1.0  1.0  0.0\n",
       " 2.0  1.0  1.0\n",
       " ⋮            \n",
       " 2.0  1.0  1.0\n",
       " 2.0  1.0  1.0\n",
       " 1.0  1.0  0.0\n",
       " 1.0  1.0  0.0\n",
       " 2.0  1.0  1.0\n",
       " 1.0  1.0  0.0\n",
       " 2.0  1.0  1.0\n",
       " 1.0  1.0  0.0\n",
       " 1.0  1.0  0.0\n",
       " 1.0  1.0  0.0\n",
       " 1.0  1.0  0.0\n",
       " 0.0  0.0  0.0"
      ]
     },
     "execution_count": 32,
     "metadata": {},
     "output_type": "execute_result"
    }
   ],
   "source": [
    "[convert(Vector{Float64}, bf, 1) convert(Vector{Float64}, bf, 1, model=:dominant) convert(Vector{Float64}, bf, 1, model=:recessive)]"
   ]
  },
  {
   "cell_type": "code",
   "execution_count": 33,
   "metadata": {},
   "outputs": [
    {
     "data": {
      "text/plain": [
       "1940×3 Array{Float64,2}:\n",
       " 1.0  1.0  -0.160841\n",
       " 1.0  1.0  -0.160841\n",
       " 2.0  2.0   1.26249 \n",
       " 1.0  1.0  -0.160841\n",
       " 2.0  2.0   1.26249 \n",
       " 1.0  1.0  -0.160841\n",
       " 1.0  1.0  -0.160841\n",
       " 1.0  1.0  -0.160841\n",
       " 1.0  1.0  -0.160841\n",
       " 2.0  2.0   1.26249 \n",
       " 2.0  2.0   1.26249 \n",
       " 1.0  1.0  -0.160841\n",
       " 2.0  2.0   1.26249 \n",
       " ⋮                  \n",
       " 2.0  2.0   1.26249 \n",
       " 2.0  2.0   1.26249 \n",
       " 1.0  1.0  -0.160841\n",
       " 1.0  1.0  -0.160841\n",
       " 2.0  2.0   1.26249 \n",
       " 1.0  1.0  -0.160841\n",
       " 2.0  2.0   1.26249 \n",
       " 1.0  1.0  -0.160841\n",
       " 1.0  1.0  -0.160841\n",
       " 1.0  1.0  -0.160841\n",
       " 1.0  1.0  -0.160841\n",
       " 0.0  0.0  -1.58417 "
      ]
     },
     "execution_count": 33,
     "metadata": {},
     "output_type": "execute_result"
    }
   ],
   "source": [
    "[convert(Vector{Float64}, bf, 1) convert(Vector{Float64}, bf, 1, impute=true) convert(Vector{Float64}, bf, 1, center=true, scale=true)]"
   ]
  },
  {
   "cell_type": "code",
   "execution_count": 34,
   "metadata": {},
   "outputs": [
    {
     "data": {
      "text/plain": [
       "1940×5 Array{Float16,2}:\n",
       " 1.0  1.0  2.0  2.0  1.0\n",
       " 1.0  2.0  1.0  1.0  1.0\n",
       " 2.0  2.0  2.0  2.0  2.0\n",
       " 1.0  1.0  1.0  1.0  1.0\n",
       " 2.0  2.0  2.0  2.0  2.0\n",
       " 1.0  1.0  2.0  2.0  1.0\n",
       " 1.0  1.0  2.0  2.0  1.0\n",
       " 1.0  2.0  1.0  1.0  1.0\n",
       " 1.0  2.0  1.0  1.0  1.0\n",
       " 2.0  2.0  2.0  2.0  2.0\n",
       " 2.0  2.0  2.0  2.0  2.0\n",
       " 1.0  1.0  2.0  2.0  1.0\n",
       " 2.0  2.0  2.0  2.0  2.0\n",
       " ⋮                      \n",
       " 2.0  2.0  2.0  2.0  2.0\n",
       " 2.0  2.0  2.0  2.0  2.0\n",
       " 1.0  1.0  1.0  1.0  1.0\n",
       " 1.0  1.0  2.0  2.0  1.0\n",
       " 2.0  2.0  2.0  2.0  2.0\n",
       " 1.0  1.0  2.0  2.0  1.0\n",
       " 2.0  2.0  2.0  2.0  2.0\n",
       " 1.0  1.0  2.0  2.0  1.0\n",
       " 1.0  2.0  1.0  1.0  1.0\n",
       " 1.0  2.0  1.0  1.0  1.0\n",
       " 1.0  1.0  1.0  1.0  1.0\n",
       " 0.0  0.0  2.0  2.0  0.0"
      ]
     },
     "execution_count": 34,
     "metadata": {},
     "output_type": "execute_result"
    }
   ],
   "source": [
    "convert(Matrix{Float16}, bf, 1:2:10)"
   ]
  },
  {
   "cell_type": "code",
   "execution_count": 35,
   "metadata": {},
   "outputs": [
    {
     "data": {
      "text/plain": [
       "1940×10150 Array{Float16,2}:\n",
       " 1.0  1.0  1.0  1.0  2.0  1.0  2.0  1.0  …    2.0    2.0    2.0    2.0    2.0\n",
       " 1.0  1.0  2.0  1.0  1.0  1.0  1.0  2.0       2.0    2.0    2.0    2.0    2.0\n",
       " 2.0  2.0  2.0  2.0  2.0  2.0  2.0  2.0       2.0    2.0    2.0    2.0    2.0\n",
       " 1.0  1.0  1.0  1.0  1.0  1.0  1.0  2.0       2.0    2.0    2.0    2.0    2.0\n",
       " 2.0  2.0  2.0  2.0  2.0  2.0  2.0  2.0       1.0    1.0    1.0    1.0    1.0\n",
       " 1.0  1.0  1.0  1.0  2.0  1.0  2.0  1.0  …    2.0    2.0    2.0    2.0    2.0\n",
       " 1.0  1.0  1.0  1.0  2.0  1.0  2.0  1.0       2.0    2.0    2.0    2.0    2.0\n",
       " 1.0  1.0  2.0  1.0  1.0  1.0  1.0  2.0       2.0    2.0    2.0    2.0    2.0\n",
       " 1.0  1.0  2.0  1.0  1.0  1.0  1.0  2.0       2.0    2.0    2.0    2.0    2.0\n",
       " 2.0  2.0  2.0  2.0  2.0  2.0  2.0  2.0       1.0    1.0    1.0    1.0    1.0\n",
       " 2.0  2.0  2.0  2.0  2.0  2.0  2.0  2.0  …    0.0    0.0    0.0    0.0    0.0\n",
       " 1.0  1.0  1.0  1.0  2.0  1.0  2.0  1.0       2.0    2.0    2.0    2.0    2.0\n",
       " 2.0  2.0  2.0  2.0  2.0  2.0  2.0  2.0       0.0    0.0    0.0    0.0    0.0\n",
       " ⋮                        ⋮              ⋱    ⋮                              \n",
       " 2.0  2.0  2.0  2.0  2.0  2.0  2.0  2.0       2.0    2.0    2.0    2.0    2.0\n",
       " 2.0  2.0  2.0  2.0  2.0  2.0  2.0  2.0       2.0    2.0    2.0    2.0    2.0\n",
       " 1.0  1.0  1.0  1.0  1.0  1.0  1.0  2.0  …    2.0    2.0    2.0    2.0    2.0\n",
       " 1.0  1.0  1.0  1.0  2.0  1.0  2.0  1.0       2.0    2.0    2.0    2.0    2.0\n",
       " 2.0  2.0  2.0  2.0  2.0  2.0  2.0  2.0       2.0    2.0    2.0    2.0    2.0\n",
       " 1.0  1.0  1.0  1.0  2.0  1.0  2.0  1.0       2.0    2.0    2.0    2.0    2.0\n",
       " 2.0  2.0  2.0  2.0  2.0  2.0  2.0  2.0       2.0    2.0    2.0    2.0    2.0\n",
       " 1.0  1.0  1.0  1.0  2.0  1.0  2.0  1.0  …    2.0    2.0    2.0    2.0    2.0\n",
       " 1.0  1.0  2.0  1.0  1.0  1.0  1.0  2.0       2.0    2.0    2.0    2.0    2.0\n",
       " 1.0  1.0  2.0  1.0  1.0  1.0  1.0  2.0       2.0    2.0    2.0    2.0    2.0\n",
       " 1.0  1.0  1.0  1.0  1.0  1.0  1.0  2.0     NaN    NaN    NaN    NaN    NaN  \n",
       " 0.0  0.0  0.0  0.0  2.0  0.0  2.0  0.0       2.0    2.0    2.0    2.0    2.0"
      ]
     },
     "execution_count": 35,
     "metadata": {},
     "output_type": "execute_result"
    }
   ],
   "source": [
    "convert(Matrix{Float16}, bf)"
   ]
  },
  {
   "cell_type": "markdown",
   "metadata": {},
   "source": [
    "## Raw summaries\n",
    "\n",
    "### Counts\n",
    "\n",
    "Counts of each the four possible values for each column are returned by `counts`.`"
   ]
  },
  {
   "cell_type": "code",
   "execution_count": 36,
   "metadata": {},
   "outputs": [
    {
     "data": {
      "text/plain": [
       "4×10150 Array{Int64,2}:\n",
       "  358   359  252   358    33   359  …    56    56    56    56    56    56\n",
       "    2     0    4     3     4     1      173   173   162   173   174   175\n",
       " 1003  1004  888  1004   442  1004      242   242   242   242   242   242\n",
       "  577   577  796   575  1461   576     1469  1469  1480  1469  1468  1467"
      ]
     },
     "execution_count": 36,
     "metadata": {},
     "output_type": "execute_result"
    }
   ],
   "source": [
    "counts(bf, dims=1)"
   ]
  },
  {
   "cell_type": "markdown",
   "metadata": {},
   "source": [
    "Column 2 has no missing values (code `0x01`, the second row in the column-counts table).\n",
    "In that SNP position for this sample, 359 indivduals are homozygous allele 1 (`G` according to the `.bim` file), 1004 are heterozygous,\n",
    "and 577 are homozygous allele 2 (`A`).\n",
    "\n",
    "The counts by column and by row are cached in the `BEDFile` object.\n",
    "Accesses after the first are extremely fast."
   ]
  },
  {
   "cell_type": "code",
   "execution_count": 37,
   "metadata": {},
   "outputs": [
    {
     "data": {
      "text/plain": [
       "BenchmarkTools.Trial: \n",
       "  memory estimate:  0 bytes\n",
       "  allocs estimate:  0\n",
       "  --------------\n",
       "  minimum time:     9.433 ns (0.00% GC)\n",
       "  median time:      9.758 ns (0.00% GC)\n",
       "  mean time:        10.505 ns (0.00% GC)\n",
       "  maximum time:     94.312 ns (0.00% GC)\n",
       "  --------------\n",
       "  samples:          10000\n",
       "  evals/sample:     999"
      ]
     },
     "execution_count": 37,
     "metadata": {},
     "output_type": "execute_result"
    }
   ],
   "source": [
    "@benchmark(counts($bf, dims=1))"
   ]
  },
  {
   "cell_type": "markdown",
   "metadata": {},
   "source": [
    "### Minor allele frequencies\n",
    "\n",
    "Minor allele frequencies (MAF)"
   ]
  },
  {
   "cell_type": "code",
   "execution_count": 38,
   "metadata": {},
   "outputs": [
    {
     "data": {
      "text/plain": [
       "10150-element Array{Float64,1}:\n",
       " 0.4434984520123839  \n",
       " 0.4438144329896907  \n",
       " 0.359504132231405   \n",
       " 0.4439855446566856  \n",
       " 0.13119834710743805 \n",
       " 0.44404332129963897 \n",
       " 0.1412706611570248  \n",
       " 0.30299123259412064 \n",
       " 0.4445018069179143  \n",
       " 0.44424367578729995 \n",
       " 0.43427835051546393 \n",
       " 0.14075413223140498 \n",
       " 0.304639175257732   \n",
       " ⋮                   \n",
       " 0.0527624309392265  \n",
       " 0.052980132450331174\n",
       " 0.08079096045197742 \n",
       " 0.08253250423968339 \n",
       " 0.08253250423968339 \n",
       " 0.10022650056625138 \n",
       " 0.10016977928692694 \n",
       " 0.10016977928692694 \n",
       " 0.09955005624296964 \n",
       " 0.10016977928692694 \n",
       " 0.10022650056625138 \n",
       " 0.10028328611898019 "
      ]
     },
     "execution_count": 38,
     "metadata": {},
     "output_type": "execute_result"
    }
   ],
   "source": [
    "maf(bf)"
   ]
  },
  {
   "cell_type": "markdown",
   "metadata": {},
   "source": [
    "Minor allele (`false` means A1 is the minor allele; `true` means A2 is the minor allele)"
   ]
  },
  {
   "cell_type": "code",
   "execution_count": 39,
   "metadata": {},
   "outputs": [
    {
     "data": {
      "text/plain": [
       "10150-element Array{Bool,1}:\n",
       " false\n",
       " false\n",
       " false\n",
       " false\n",
       " false\n",
       " false\n",
       " false\n",
       " false\n",
       " false\n",
       " false\n",
       " false\n",
       " false\n",
       " false\n",
       "     ⋮\n",
       " false\n",
       " false\n",
       " false\n",
       " false\n",
       " false\n",
       " false\n",
       " false\n",
       " false\n",
       " false\n",
       " false\n",
       " false\n",
       " false"
      ]
     },
     "execution_count": 39,
     "metadata": {},
     "output_type": "execute_result"
    }
   ],
   "source": [
    "minorallele(bf)"
   ]
  },
  {
   "cell_type": "markdown",
   "metadata": {},
   "source": [
    "\n",
    "## Instantiating as a count of the second allele\n",
    "\n",
    "In some operations on GWAS data the data are converted to counts of the second allele, according to\n",
    "\n",
    "|BEDFile|count   |\n",
    "|------:|--------:|\n",
    "| 0x00  | 0       |\n",
    "| 0x01  | missing |\n",
    "| 0x10  | 1       |\n",
    "| 0x11  | 2       |\n",
    "\n",
    "This can be accomplished by indexing `bedvals` with the `BEDFile` or with a view of the `BEDFile`,\n",
    "producing an array of type `Union{Missing,Int8}`, which is the preferred way in v0.7 of\n",
    "representing arrays that may contain missing values."
   ]
  },
  {
   "cell_type": "code",
   "execution_count": 40,
   "metadata": {},
   "outputs": [
    {
     "data": {
      "text/plain": [
       "1940×10150 Array{Union{Missing, Int8},2}:\n",
       " 1  1  1  1  2  1  2  1  1  1  1  2  1  1  2  …  2         2         2       \n",
       " 1  1  2  1  1  1  1  2  1  1  1  1  2  2  1     2         2         2       \n",
       " 2  2  2  2  2  2  2  2  2  2  2  2  2  2  2     2         2         2       \n",
       " 1  1  1  1  1  1  1  2  1  1  1  1  2  2  1     2         2         2       \n",
       " 2  2  2  2  2  2  2  2  2  2  2  2  2  2  2     1         1         1       \n",
       " 1  1  1  1  2  1  2  1  1  1  1  2  1  1  2  …  2         2         2       \n",
       " 1  1  1  1  2  1  2  1  1  1  1  2  1  1  2     2         2         2       \n",
       " 1  1  2  1  1  1  1  2  1  1  1  1  2  2  1     2         2         2       \n",
       " 1  1  2  1  1  1  1  2  1  1  1  1  2  2  1     2         2         2       \n",
       " 2  2  2  2  2  2  2  2  2  2  2  2  2  2  2     1         1         1       \n",
       " 2  2  2  2  2  2  2  2  2  2  2  2  2  2  2  …  0         0         0       \n",
       " 1  1  1  1  2  1  2  1  1  1  1  2  1  1  2     2         2         2       \n",
       " 2  2  2  2  2  2  2  2  2  2  2  2  2  2  2     0         0         0       \n",
       " ⋮              ⋮              ⋮              ⋱                              \n",
       " 2  2  2  2  2  2  2  2  2  2  2  2  2  2  2     2         2         2       \n",
       " 2  2  2  2  2  2  2  2  2  2  2  2  2  2  2     2         2         2       \n",
       " 1  1  1  1  1  1  1  2  1  1  1  1  2  2  1  …  2         2         2       \n",
       " 1  1  1  1  2  1  2  1  1  1  1  2  1  1  2     2         2         2       \n",
       " 2  2  2  2  2  2  2  2  2  2  2  2  2  2  2     2         2         2       \n",
       " 1  1  1  1  2  1  2  1  1  1  1  2  1  1  2     2         2         2       \n",
       " 2  2  2  2  2  2  2  2  2  2  2  2  2  2  2     2         2         2       \n",
       " 1  1  1  1  2  1  2  1  1  1  1  2  1  1  2  …  2         2         2       \n",
       " 1  1  2  1  1  1  1  2  1  1  1  1  2  2  1     2         2         2       \n",
       " 1  1  2  1  1  1  1  2  1  1  1  1  2  2  1     2         2         2       \n",
       " 1  1  1  1  1  1  1  2  1  1  1  1  2  2  1      missing   missing   missing\n",
       " 0  0  0  0  2  0  2  0  0  0  0  2  0  0  2     2         2         2       "
      ]
     },
     "execution_count": 40,
     "metadata": {},
     "output_type": "execute_result"
    }
   ],
   "source": [
    "bedvals[bf]"
   ]
  },
  {
   "cell_type": "code",
   "execution_count": 41,
   "metadata": {},
   "outputs": [
    {
     "data": {
      "text/plain": [
       "4-element Array{Union{Missing, Int8},1}:\n",
       " 0       \n",
       " 1       \n",
       " 2       \n",
       "  missing"
      ]
     },
     "execution_count": 41,
     "metadata": {},
     "output_type": "execute_result"
    }
   ],
   "source": [
    "sort(unique(bedvals[bf]))"
   ]
  },
  {
   "cell_type": "markdown",
   "metadata": {},
   "source": [
    "## Summary statistics\n",
    "\n",
    "The package provides methods for the generics `mean` and `var` from the `Statistics` package."
   ]
  },
  {
   "cell_type": "code",
   "execution_count": 42,
   "metadata": {},
   "outputs": [
    {
     "data": {
      "text/plain": [
       "1×10150 Array{Float64,2}:\n",
       " 1.113  1.11237  1.28099  1.11203  …  1.8009  1.79966  1.79955  1.79943"
      ]
     },
     "execution_count": 42,
     "metadata": {},
     "output_type": "execute_result"
    }
   ],
   "source": [
    "mean(bf, dims=1)"
   ]
  },
  {
   "cell_type": "code",
   "execution_count": 43,
   "metadata": {},
   "outputs": [
    {
     "data": {
      "text/plain": [
       "1×10150 Array{Float64,2}:\n",
       " 0.469929  0.470089  0.462605  0.469365  …  0.223714  0.223818  0.223923"
      ]
     },
     "execution_count": 43,
     "metadata": {},
     "output_type": "execute_result"
    }
   ],
   "source": [
    "var(bf, dims=1)"
   ]
  },
  {
   "cell_type": "markdown",
   "metadata": {},
   "source": [
    "These methods make use of the cached column or row counts and thus are very fast"
   ]
  },
  {
   "cell_type": "code",
   "execution_count": 44,
   "metadata": {},
   "outputs": [
    {
     "data": {
      "text/plain": [
       "BenchmarkTools.Trial: \n",
       "  memory estimate:  79.39 KiB\n",
       "  allocs estimate:  2\n",
       "  --------------\n",
       "  minimum time:     12.454 μs (0.00% GC)\n",
       "  median time:      17.154 μs (0.00% GC)\n",
       "  mean time:        20.118 μs (16.88% GC)\n",
       "  maximum time:     1.960 ms (98.22% GC)\n",
       "  --------------\n",
       "  samples:          10000\n",
       "  evals/sample:     1"
      ]
     },
     "execution_count": 44,
     "metadata": {},
     "output_type": "execute_result"
    }
   ],
   "source": [
    "@benchmark(mean($bf, dims=1))"
   ]
  },
  {
   "cell_type": "markdown",
   "metadata": {},
   "source": [
    "The column-wise or row-wise standard deviations are returned by `std`."
   ]
  },
  {
   "cell_type": "code",
   "execution_count": 45,
   "metadata": {},
   "outputs": [
    {
     "data": {
      "text/plain": [
       "1940×1 Array{Float64,2}:\n",
       " 0.6504997290784408\n",
       " 0.6379008244533891\n",
       " 0.6558172726141286\n",
       " 0.6532675479248437\n",
       " 0.6744432174014563\n",
       " 0.6519092298111158\n",
       " 0.6779881845456428\n",
       " 0.6955814098050999\n",
       " 0.6437566832989493\n",
       " 0.6505283141088536\n",
       " 0.665444994623426 \n",
       " 0.659392039592328 \n",
       " 0.6641674726999468\n",
       " ⋮                 \n",
       " 0.6599158250006595\n",
       " 0.688387450736178 \n",
       " 0.6664063015924304\n",
       " 0.6613451651895259\n",
       " 0.6659810347614777\n",
       " 0.6274577846909379\n",
       " 0.6823658517777204\n",
       " 0.6695299551061924\n",
       " 0.710756592739754 \n",
       " 0.6387913736114869\n",
       " 0.6736492722732016\n",
       " 0.688855476425891 "
      ]
     },
     "execution_count": 45,
     "metadata": {},
     "output_type": "execute_result"
    }
   ],
   "source": [
    "std(bf, dims=2)"
   ]
  },
  {
   "cell_type": "markdown",
   "metadata": {},
   "source": [
    "## Location of the missing values\n",
    "\n",
    "\n",
    "The positions of the missing data are evaluated by"
   ]
  },
  {
   "cell_type": "code",
   "execution_count": 46,
   "metadata": {},
   "outputs": [
    {
     "data": {
      "text/plain": [
       "1940×10150 SparseArrays.SparseMatrixCSC{Bool,Int32} with 33922 stored entries:\n",
       "  [702  ,     1]  =  true\n",
       "  [949  ,     1]  =  true\n",
       "  [914  ,     3]  =  true\n",
       "  [949  ,     3]  =  true\n",
       "  [1604 ,     3]  =  true\n",
       "  [1891 ,     3]  =  true\n",
       "  [81   ,     4]  =  true\n",
       "  [990  ,     4]  =  true\n",
       "  [1882 ,     4]  =  true\n",
       "  [81   ,     5]  =  true\n",
       "  [676  ,     5]  =  true\n",
       "  [990  ,     5]  =  true\n",
       "  ⋮\n",
       "  [1791 , 10150]  =  true\n",
       "  [1795 , 10150]  =  true\n",
       "  [1846 , 10150]  =  true\n",
       "  [1848 , 10150]  =  true\n",
       "  [1851 , 10150]  =  true\n",
       "  [1853 , 10150]  =  true\n",
       "  [1860 , 10150]  =  true\n",
       "  [1873 , 10150]  =  true\n",
       "  [1886 , 10150]  =  true\n",
       "  [1894 , 10150]  =  true\n",
       "  [1897 , 10150]  =  true\n",
       "  [1939 , 10150]  =  true"
      ]
     },
     "execution_count": 46,
     "metadata": {},
     "output_type": "execute_result"
    }
   ],
   "source": [
    "mp = missingpos(bf)"
   ]
  },
  {
   "cell_type": "code",
   "execution_count": 47,
   "metadata": {},
   "outputs": [
    {
     "data": {
      "text/plain": [
       "BenchmarkTools.Trial: \n",
       "  memory estimate:  1.81 MiB\n",
       "  allocs estimate:  19273\n",
       "  --------------\n",
       "  minimum time:     34.371 ms (0.00% GC)\n",
       "  median time:      38.477 ms (0.00% GC)\n",
       "  mean time:        38.189 ms (0.37% GC)\n",
       "  maximum time:     43.308 ms (0.00% GC)\n",
       "  --------------\n",
       "  samples:          131\n",
       "  evals/sample:     1"
      ]
     },
     "execution_count": 47,
     "metadata": {},
     "output_type": "execute_result"
    }
   ],
   "source": [
    "@benchmark(missingpos($bf))"
   ]
  },
  {
   "cell_type": "markdown",
   "metadata": {},
   "source": [
    "So, for example, the number of missing data values in each column can be evaluated as"
   ]
  },
  {
   "cell_type": "code",
   "execution_count": 48,
   "metadata": {},
   "outputs": [
    {
     "data": {
      "text/plain": [
       "1×10150 Array{Int64,2}:\n",
       " 2  0  4  3  4  1  4  1  3  3  0  4  0  …  174  173  173  162  173  174  175"
      ]
     },
     "execution_count": 48,
     "metadata": {},
     "output_type": "execute_result"
    }
   ],
   "source": [
    "sum(mp, dims=1)"
   ]
  },
  {
   "cell_type": "markdown",
   "metadata": {},
   "source": [
    "although it is faster, but somewhat more obscure, to use"
   ]
  },
  {
   "cell_type": "code",
   "execution_count": 49,
   "metadata": {},
   "outputs": [
    {
     "data": {
      "text/plain": [
       "1×10150 view(::Array{Int64,2}, 2:2, :) with eltype Int64:\n",
       " 2  0  4  3  4  1  4  1  3  3  0  4  0  …  174  173  173  162  173  174  175"
      ]
     },
     "execution_count": 49,
     "metadata": {},
     "output_type": "execute_result"
    }
   ],
   "source": [
    "view(counts(bf, dims=1), 2:2, :)"
   ]
  },
  {
   "cell_type": "markdown",
   "metadata": {},
   "source": [
    "### Missing rate\n",
    "\n",
    "Proportion of missing genotypes"
   ]
  },
  {
   "cell_type": "code",
   "execution_count": 50,
   "metadata": {},
   "outputs": [
    {
     "data": {
      "text/plain": [
       "10150-element Array{Float64,1}:\n",
       " 0.0010309278350515464\n",
       " 0.0                  \n",
       " 0.002061855670103093 \n",
       " 0.0015463917525773195\n",
       " 0.002061855670103093 \n",
       " 0.0005154639175257732\n",
       " 0.002061855670103093 \n",
       " 0.0005154639175257732\n",
       " 0.0015463917525773195\n",
       " 0.0015463917525773195\n",
       " 0.0                  \n",
       " 0.002061855670103093 \n",
       " 0.0                  \n",
       " ⋮                    \n",
       " 0.06701030927835051  \n",
       " 0.06597938144329897  \n",
       " 0.08762886597938144  \n",
       " 0.08814432989690722  \n",
       " 0.08814432989690722  \n",
       " 0.08969072164948454  \n",
       " 0.08917525773195877  \n",
       " 0.08917525773195877  \n",
       " 0.08350515463917525  \n",
       " 0.08917525773195877  \n",
       " 0.08969072164948454  \n",
       " 0.09020618556701031  "
      ]
     },
     "execution_count": 50,
     "metadata": {},
     "output_type": "execute_result"
    }
   ],
   "source": [
    "missingrate(bf, 1)"
   ]
  },
  {
   "cell_type": "code",
   "execution_count": 51,
   "metadata": {},
   "outputs": [
    {
     "data": {
      "text/plain": [
       "1940-element Array{Float64,1}:\n",
       " 0.00019704433497536947\n",
       " 0.0                   \n",
       " 0.018423645320197045  \n",
       " 0.0007881773399014779 \n",
       " 0.0                   \n",
       " 0.004236453201970443  \n",
       " 0.0051231527093596055 \n",
       " 0.00039408866995073894\n",
       " 0.005517241379310344  \n",
       " 0.0016748768472906405 \n",
       " 0.0                   \n",
       " 9.852216748768474e-5  \n",
       " 0.0004926108374384236 \n",
       " ⋮                     \n",
       " 0.000689655172413793  \n",
       " 0.004729064039408867  \n",
       " 0.0004926108374384236 \n",
       " 0.001083743842364532  \n",
       " 0.00019704433497536947\n",
       " 0.0025615763546798028 \n",
       " 0.0038423645320197044 \n",
       " 0.001379310344827586  \n",
       " 0.0064039408866995075 \n",
       " 0.002857142857142857  \n",
       " 0.0011822660098522167 \n",
       " 0.00029556650246305416"
      ]
     },
     "execution_count": 51,
     "metadata": {},
     "output_type": "execute_result"
    }
   ],
   "source": [
    "missingrate(bf, 2)"
   ]
  }
 ],
 "metadata": {
  "kernelspec": {
   "display_name": "Julia 0.7.0",
   "language": "julia",
   "name": "julia-0.7"
  },
  "language_info": {
   "file_extension": ".jl",
   "mimetype": "application/julia",
   "name": "julia",
   "version": "0.7.0"
  },
  "toc": {
   "colors": {
    "hover_highlight": "#DAA520",
    "running_highlight": "#FF0000",
    "selected_highlight": "#FFD700"
   },
   "moveMenuLeft": true,
   "nav_menu": {
    "height": "84px",
    "width": "252px"
   },
   "navigate_menu": true,
   "number_sections": true,
   "sideBar": true,
   "threshold": 4,
   "toc_cell": false,
   "toc_section_display": "block",
   "toc_window_display": true,
   "widenNotebook": false
  }
 },
 "nbformat": 4,
 "nbformat_minor": 2
}
