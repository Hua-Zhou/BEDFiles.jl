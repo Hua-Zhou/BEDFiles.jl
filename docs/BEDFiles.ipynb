{
 "cells": [
  {
   "cell_type": "code",
   "execution_count": 1,
   "metadata": {},
   "outputs": [
    {
     "name": "stderr",
     "output_type": "stream",
     "text": [
      "┌ Info: Precompiling BEDFiles [6f44c9a6-7b0d-11e8-3270-d5b481c31be2]\n",
      "└ @ Base loading.jl:1186\n"
     ]
    }
   ],
   "source": [
    "using BEDFiles, BenchmarkTools"
   ]
  },
  {
   "cell_type": "code",
   "execution_count": 2,
   "metadata": {},
   "outputs": [],
   "source": [
    "const bf = BEDFile(BEDFiles.datadir(\"mouse.bed\"));"
   ]
  },
  {
   "cell_type": "markdown",
   "metadata": {},
   "source": [
    "The virtual size of the GWAS data is 1940 observations at each of 10150 SNP positions"
   ]
  },
  {
   "cell_type": "code",
   "execution_count": 3,
   "metadata": {},
   "outputs": [
    {
     "data": {
      "text/plain": [
       "(1940, 10150)"
      ]
     },
     "execution_count": 3,
     "metadata": {},
     "output_type": "execute_result"
    }
   ],
   "source": [
    "size(bf)"
   ]
  },
  {
   "cell_type": "markdown",
   "metadata": {},
   "source": [
    "The actual size of the memory-mapped matrix of `UInt8` values is 485 rows and 10150 columns"
   ]
  },
  {
   "cell_type": "code",
   "execution_count": 4,
   "metadata": {},
   "outputs": [
    {
     "data": {
      "text/plain": [
       "(485, 10150)"
      ]
     },
     "execution_count": 4,
     "metadata": {},
     "output_type": "execute_result"
    }
   ],
   "source": [
    "size(bf.data)"
   ]
  },
  {
   "cell_type": "markdown",
   "metadata": {},
   "source": [
    "Because the file is memory-mapped opening the file and accessing the data is fast, even for very large `.bed` files."
   ]
  },
  {
   "cell_type": "code",
   "execution_count": 5,
   "metadata": {},
   "outputs": [
    {
     "data": {
      "text/plain": [
       "BenchmarkTools.Trial: \n",
       "  memory estimate:  389.42 KiB\n",
       "  allocs estimate:  61\n",
       "  --------------\n",
       "  minimum time:     104.199 μs (0.00% GC)\n",
       "  median time:      112.663 μs (0.00% GC)\n",
       "  mean time:        131.108 μs (10.81% GC)\n",
       "  maximum time:     46.781 ms (99.32% GC)\n",
       "  --------------\n",
       "  samples:          10000\n",
       "  evals/sample:     1"
      ]
     },
     "execution_count": 5,
     "metadata": {},
     "output_type": "execute_result"
    }
   ],
   "source": [
    "@benchmark(BEDFile(BEDFiles.datadir(\"mouse.bed\")))"
   ]
  },
  {
   "cell_type": "markdown",
   "metadata": {},
   "source": [
    "This file, from a study published in 2006, is about 5 Mb in size but data from recent studies, which have samples from tens of\n",
    "thousands of individuals at over a million SNP positions, would be in the tens or even hundreds of Gb range.\n",
    "\n",
    "## Raw summaries\n",
    "\n",
    "Counts of each the four possible values for each column are returned by `counts`.`"
   ]
  },
  {
   "cell_type": "code",
   "execution_count": 6,
   "metadata": {},
   "outputs": [
    {
     "data": {
      "text/plain": [
       "4×10150 Array{Int64,2}:\n",
       "  358   359  252   358    33   359  …    56    56    56    56    56    56\n",
       "    2     0    4     3     4     1      173   173   162   173   174   175\n",
       " 1003  1004  888  1004   442  1004      242   242   242   242   242   242\n",
       "  577   577  796   575  1461   576     1469  1469  1480  1469  1468  1467"
      ]
     },
     "execution_count": 6,
     "metadata": {},
     "output_type": "execute_result"
    }
   ],
   "source": [
    "counts(bf, dims=1)"
   ]
  },
  {
   "cell_type": "markdown",
   "metadata": {},
   "source": [
    "Column 2 has no missing values (code `0x01`, the second row in the column-counts table).\n",
    "In that SNP position for this sample, 359 indivduals are homozygous allele 1 (`G` according to the `.bim` file), 1004 are heterozygous,\n",
    "and 577 are homozygous allele 2 (`A`).\n",
    "\n",
    "The counts by column and by row are cached in the `BEDFile` object.\n",
    "Accesses after the first are extremely fast."
   ]
  },
  {
   "cell_type": "code",
   "execution_count": 7,
   "metadata": {},
   "outputs": [
    {
     "data": {
      "text/plain": [
       "BenchmarkTools.Trial: \n",
       "  memory estimate:  0 bytes\n",
       "  allocs estimate:  0\n",
       "  --------------\n",
       "  minimum time:     7.826 ns (0.00% GC)\n",
       "  median time:      7.893 ns (0.00% GC)\n",
       "  mean time:        7.909 ns (0.00% GC)\n",
       "  maximum time:     13.971 ns (0.00% GC)\n",
       "  --------------\n",
       "  samples:          10000\n",
       "  evals/sample:     999"
      ]
     },
     "execution_count": 7,
     "metadata": {},
     "output_type": "execute_result"
    }
   ],
   "source": [
    "@benchmark(counts($bf, dims=1))"
   ]
  },
  {
   "cell_type": "markdown",
   "metadata": {},
   "source": [
    "\n",
    "## Instantiating as a count of the second allele\n",
    "\n",
    "In some operations on GWAS data the data are converted to counts of the second allele, according to\n",
    "\n",
    "|BEDFile|count   |\n",
    "|------:|--------:|\n",
    "| 0x00  | 0       |\n",
    "| 0x01  | missing |\n",
    "| 0x10  | 1       |\n",
    "| 0x11  | 2       |\n",
    "\n",
    "This can be accomplished by indexing `bedvals` with the `BEDFile` or with a view of the `BEDFile`,\n",
    "producing an array of type `Union{Missing,Int8}`, which is the preferred way in v0.7 of\n",
    "representing arrays that may contain missing values."
   ]
  },
  {
   "cell_type": "code",
   "execution_count": 8,
   "metadata": {},
   "outputs": [
    {
     "data": {
      "text/plain": [
       "1940×10150 Array{Union{Missing, Int8},2}:\n",
       " 1  1  1  1  2  1  2  1  1  1  1  2  1  1  2  …  2         2         2       \n",
       " 1  1  2  1  1  1  1  2  1  1  1  1  2  2  1     2         2         2       \n",
       " 2  2  2  2  2  2  2  2  2  2  2  2  2  2  2     2         2         2       \n",
       " 1  1  1  1  1  1  1  2  1  1  1  1  2  2  1     2         2         2       \n",
       " 2  2  2  2  2  2  2  2  2  2  2  2  2  2  2     1         1         1       \n",
       " 1  1  1  1  2  1  2  1  1  1  1  2  1  1  2  …  2         2         2       \n",
       " 1  1  1  1  2  1  2  1  1  1  1  2  1  1  2     2         2         2       \n",
       " 1  1  2  1  1  1  1  2  1  1  1  1  2  2  1     2         2         2       \n",
       " 1  1  2  1  1  1  1  2  1  1  1  1  2  2  1     2         2         2       \n",
       " 2  2  2  2  2  2  2  2  2  2  2  2  2  2  2     1         1         1       \n",
       " 2  2  2  2  2  2  2  2  2  2  2  2  2  2  2  …  0         0         0       \n",
       " 1  1  1  1  2  1  2  1  1  1  1  2  1  1  2     2         2         2       \n",
       " 2  2  2  2  2  2  2  2  2  2  2  2  2  2  2     0         0         0       \n",
       " ⋮              ⋮              ⋮              ⋱                              \n",
       " 2  2  2  2  2  2  2  2  2  2  2  2  2  2  2     2         2         2       \n",
       " 2  2  2  2  2  2  2  2  2  2  2  2  2  2  2     2         2         2       \n",
       " 1  1  1  1  1  1  1  2  1  1  1  1  2  2  1  …  2         2         2       \n",
       " 1  1  1  1  2  1  2  1  1  1  1  2  1  1  2     2         2         2       \n",
       " 2  2  2  2  2  2  2  2  2  2  2  2  2  2  2     2         2         2       \n",
       " 1  1  1  1  2  1  2  1  1  1  1  2  1  1  2     2         2         2       \n",
       " 2  2  2  2  2  2  2  2  2  2  2  2  2  2  2     2         2         2       \n",
       " 1  1  1  1  2  1  2  1  1  1  1  2  1  1  2  …  2         2         2       \n",
       " 1  1  2  1  1  1  1  2  1  1  1  1  2  2  1     2         2         2       \n",
       " 1  1  2  1  1  1  1  2  1  1  1  1  2  2  1     2         2         2       \n",
       " 1  1  1  1  1  1  1  2  1  1  1  1  2  2  1      missing   missing   missing\n",
       " 0  0  0  0  2  0  2  0  0  0  0  2  0  0  2     2         2         2       "
      ]
     },
     "execution_count": 8,
     "metadata": {},
     "output_type": "execute_result"
    }
   ],
   "source": [
    "bedvals[bf]"
   ]
  },
  {
   "cell_type": "code",
   "execution_count": 9,
   "metadata": {},
   "outputs": [
    {
     "data": {
      "text/plain": [
       "4-element Array{Union{Missing, Int8},1}:\n",
       " 0       \n",
       " 1       \n",
       " 2       \n",
       "  missing"
      ]
     },
     "execution_count": 9,
     "metadata": {},
     "output_type": "execute_result"
    }
   ],
   "source": [
    "sort(unique(bedvals[bf]))"
   ]
  },
  {
   "cell_type": "markdown",
   "metadata": {},
   "source": [
    "### Summary statistics\n",
    "\n",
    "The package provides methods for the generics `mean` and `var` from the `Statistics` package."
   ]
  },
  {
   "cell_type": "code",
   "execution_count": 10,
   "metadata": {},
   "outputs": [
    {
     "data": {
      "text/plain": [
       "1×10150 Array{Float64,2}:\n",
       " 1.113  1.11237  1.28099  1.11203  …  1.8009  1.79966  1.79955  1.79943"
      ]
     },
     "execution_count": 10,
     "metadata": {},
     "output_type": "execute_result"
    }
   ],
   "source": [
    "mean(bf, dims=1)"
   ]
  },
  {
   "cell_type": "code",
   "execution_count": 11,
   "metadata": {},
   "outputs": [
    {
     "data": {
      "text/plain": [
       "1×10150 Array{Float64,2}:\n",
       " 0.469929  0.470089  0.462605  0.469365  …  0.223714  0.223818  0.223923"
      ]
     },
     "execution_count": 11,
     "metadata": {},
     "output_type": "execute_result"
    }
   ],
   "source": [
    "var(bf, dims=1)"
   ]
  },
  {
   "cell_type": "markdown",
   "metadata": {},
   "source": [
    "These methods make use of the cached column or row counts and thus are very fast"
   ]
  },
  {
   "cell_type": "code",
   "execution_count": 12,
   "metadata": {},
   "outputs": [
    {
     "data": {
      "text/plain": [
       "BenchmarkTools.Trial: \n",
       "  memory estimate:  79.39 KiB\n",
       "  allocs estimate:  2\n",
       "  --------------\n",
       "  minimum time:     39.954 μs (0.00% GC)\n",
       "  median time:      40.572 μs (0.00% GC)\n",
       "  mean time:        42.815 μs (4.27% GC)\n",
       "  maximum time:     626.437 μs (88.90% GC)\n",
       "  --------------\n",
       "  samples:          10000\n",
       "  evals/sample:     1"
      ]
     },
     "execution_count": 12,
     "metadata": {},
     "output_type": "execute_result"
    }
   ],
   "source": [
    "@benchmark(mean($bf, dims=1))"
   ]
  },
  {
   "cell_type": "markdown",
   "metadata": {},
   "source": [
    "The column-wise or row-wise standard deviations are returned by `std`."
   ]
  },
  {
   "cell_type": "code",
   "execution_count": 13,
   "metadata": {},
   "outputs": [
    {
     "data": {
      "text/plain": [
       "1940×1 Array{Float64,2}:\n",
       " 0.6504997290784408\n",
       " 0.6379008244533891\n",
       " 0.6558172726141286\n",
       " 0.6532675479248437\n",
       " 0.6744432174014563\n",
       " 0.6519092298111158\n",
       " 0.6779881845456428\n",
       " 0.6955814098050999\n",
       " 0.6437566832989493\n",
       " 0.6505283141088536\n",
       " 0.665444994623426 \n",
       " 0.659392039592328 \n",
       " 0.6641674726999468\n",
       " ⋮                 \n",
       " 0.6599158250006595\n",
       " 0.688387450736178 \n",
       " 0.6664063015924304\n",
       " 0.6613451651895259\n",
       " 0.6659810347614777\n",
       " 0.6274577846909379\n",
       " 0.6823658517777204\n",
       " 0.6695299551061924\n",
       " 0.710756592739754 \n",
       " 0.6387913736114869\n",
       " 0.6736492722732016\n",
       " 0.688855476425891 "
      ]
     },
     "execution_count": 13,
     "metadata": {},
     "output_type": "execute_result"
    }
   ],
   "source": [
    "std(bf, dims=2)"
   ]
  },
  {
   "cell_type": "markdown",
   "metadata": {},
   "source": [
    "## Location of the missing values\n",
    "\n",
    "\n",
    "The positions of the missing data are evaluated by"
   ]
  },
  {
   "cell_type": "code",
   "execution_count": 14,
   "metadata": {},
   "outputs": [
    {
     "data": {
      "text/plain": [
       "1940×10150 SparseArrays.SparseMatrixCSC{Bool,Int32} with 33922 stored entries:\n",
       "  [702  ,     1]  =  true\n",
       "  [949  ,     1]  =  true\n",
       "  [914  ,     3]  =  true\n",
       "  [949  ,     3]  =  true\n",
       "  [1604 ,     3]  =  true\n",
       "  [1891 ,     3]  =  true\n",
       "  [81   ,     4]  =  true\n",
       "  [990  ,     4]  =  true\n",
       "  [1882 ,     4]  =  true\n",
       "  [81   ,     5]  =  true\n",
       "  [676  ,     5]  =  true\n",
       "  [990  ,     5]  =  true\n",
       "  ⋮\n",
       "  [1791 , 10150]  =  true\n",
       "  [1795 , 10150]  =  true\n",
       "  [1846 , 10150]  =  true\n",
       "  [1848 , 10150]  =  true\n",
       "  [1851 , 10150]  =  true\n",
       "  [1853 , 10150]  =  true\n",
       "  [1860 , 10150]  =  true\n",
       "  [1873 , 10150]  =  true\n",
       "  [1886 , 10150]  =  true\n",
       "  [1894 , 10150]  =  true\n",
       "  [1897 , 10150]  =  true\n",
       "  [1939 , 10150]  =  true"
      ]
     },
     "execution_count": 14,
     "metadata": {},
     "output_type": "execute_result"
    }
   ],
   "source": [
    "mp = missingpos(bf)"
   ]
  },
  {
   "cell_type": "code",
   "execution_count": 15,
   "metadata": {},
   "outputs": [
    {
     "data": {
      "text/plain": [
       "BenchmarkTools.Trial: \n",
       "  memory estimate:  1.81 MiB\n",
       "  allocs estimate:  19273\n",
       "  --------------\n",
       "  minimum time:     40.182 ms (0.00% GC)\n",
       "  median time:      41.063 ms (0.00% GC)\n",
       "  mean time:        42.007 ms (0.33% GC)\n",
       "  maximum time:     61.587 ms (0.00% GC)\n",
       "  --------------\n",
       "  samples:          119\n",
       "  evals/sample:     1"
      ]
     },
     "execution_count": 15,
     "metadata": {},
     "output_type": "execute_result"
    }
   ],
   "source": [
    "@benchmark(missingpos($bf))"
   ]
  },
  {
   "cell_type": "markdown",
   "metadata": {},
   "source": [
    "So, for example, the number of missing data values in each column can be evaluated as"
   ]
  },
  {
   "cell_type": "code",
   "execution_count": 16,
   "metadata": {},
   "outputs": [
    {
     "data": {
      "text/plain": [
       "1×10150 Array{Int64,2}:\n",
       " 2  0  4  3  4  1  4  1  3  3  0  4  0  …  174  173  173  162  173  174  175"
      ]
     },
     "execution_count": 16,
     "metadata": {},
     "output_type": "execute_result"
    }
   ],
   "source": [
    "sum(mp, dims=1)"
   ]
  },
  {
   "cell_type": "markdown",
   "metadata": {},
   "source": [
    "although it is faster, but somewhat more obscure, to use"
   ]
  },
  {
   "cell_type": "code",
   "execution_count": 17,
   "metadata": {},
   "outputs": [
    {
     "data": {
      "text/plain": [
       "1×10150 view(::Array{Int64,2}, 2:2, :) with eltype Int64:\n",
       " 2  0  4  3  4  1  4  1  3  3  0  4  0  …  174  173  173  162  173  174  175"
      ]
     },
     "execution_count": 17,
     "metadata": {},
     "output_type": "execute_result"
    }
   ],
   "source": [
    "view(counts(bf, dims=1), 2:2, :)"
   ]
  }
 ],
 "metadata": {
  "kernelspec": {
   "display_name": "Julia 1.0.0",
   "language": "julia",
   "name": "julia-1.0"
  },
  "language_info": {
   "file_extension": ".jl",
   "mimetype": "application/julia",
   "name": "julia",
   "version": "1.0.0"
  }
 },
 "nbformat": 4,
 "nbformat_minor": 2
}
